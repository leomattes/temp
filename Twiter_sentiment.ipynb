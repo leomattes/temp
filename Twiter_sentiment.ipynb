{
 "cells": [
  {
   "cell_type": "markdown",
   "metadata": {},
   "source": [
    "#  Twitter Sentiment Analysis Classifier \n",
    "\n",
    "\n",
    "This notebook presents a model to classify Twitter in positive or negative \n",
    "\n",
    "## Data SET \n",
    "The used dataset is the Twitter Sentiment Analysis Training Corpus, it contains 1,5 M classificated twitters. it's avable in  http://thinknook.com/twitter-sentiment-analysis-training-corpus-dataset-2012-09-22/\n",
    "\n",
    "each row is marked as 1 for positive sentiment and 0 for negative sentiment. \n",
    "\n",
    "\n",
    "\n"
   ]
  },
  {
   "cell_type": "code",
   "execution_count": null,
   "metadata": {},
   "outputs": [],
   "source": []
  },
  {
   "cell_type": "code",
   "execution_count": 1,
   "metadata": {
    "scrolled": true
   },
   "outputs": [
    {
     "name": "stderr",
     "output_type": "stream",
     "text": [
      "b'Skipping line 8836: expected 4 fields, saw 5\\n'\n",
      "b'Skipping line 535882: expected 4 fields, saw 7\\n'\n"
     ]
    },
    {
     "data": {
      "text/html": [
       "<div>\n",
       "<style scoped>\n",
       "    .dataframe tbody tr th:only-of-type {\n",
       "        vertical-align: middle;\n",
       "    }\n",
       "\n",
       "    .dataframe tbody tr th {\n",
       "        vertical-align: top;\n",
       "    }\n",
       "\n",
       "    .dataframe thead th {\n",
       "        text-align: right;\n",
       "    }\n",
       "</style>\n",
       "<table border=\"1\" class=\"dataframe\">\n",
       "  <thead>\n",
       "    <tr style=\"text-align: right;\">\n",
       "      <th></th>\n",
       "      <th>ItemID</th>\n",
       "      <th>Sentiment</th>\n",
       "      <th>SentimentSource</th>\n",
       "      <th>SentimentText</th>\n",
       "    </tr>\n",
       "  </thead>\n",
       "  <tbody>\n",
       "    <tr>\n",
       "      <th>0</th>\n",
       "      <td>1</td>\n",
       "      <td>0</td>\n",
       "      <td>Sentiment140</td>\n",
       "      <td>is so sad for my APL frie...</td>\n",
       "    </tr>\n",
       "    <tr>\n",
       "      <th>1</th>\n",
       "      <td>2</td>\n",
       "      <td>0</td>\n",
       "      <td>Sentiment140</td>\n",
       "      <td>I missed the New Moon trail...</td>\n",
       "    </tr>\n",
       "    <tr>\n",
       "      <th>2</th>\n",
       "      <td>3</td>\n",
       "      <td>1</td>\n",
       "      <td>Sentiment140</td>\n",
       "      <td>omg its already 7:30 :O</td>\n",
       "    </tr>\n",
       "    <tr>\n",
       "      <th>3</th>\n",
       "      <td>4</td>\n",
       "      <td>0</td>\n",
       "      <td>Sentiment140</td>\n",
       "      <td>.. Omgaga. Im sooo  im gunna CRy. I'...</td>\n",
       "    </tr>\n",
       "    <tr>\n",
       "      <th>4</th>\n",
       "      <td>5</td>\n",
       "      <td>0</td>\n",
       "      <td>Sentiment140</td>\n",
       "      <td>i think mi bf is cheating on me!!!   ...</td>\n",
       "    </tr>\n",
       "  </tbody>\n",
       "</table>\n",
       "</div>"
      ],
      "text/plain": [
       "   ItemID  Sentiment SentimentSource  \\\n",
       "0       1          0    Sentiment140   \n",
       "1       2          0    Sentiment140   \n",
       "2       3          1    Sentiment140   \n",
       "3       4          0    Sentiment140   \n",
       "4       5          0    Sentiment140   \n",
       "\n",
       "                                       SentimentText  \n",
       "0                       is so sad for my APL frie...  \n",
       "1                     I missed the New Moon trail...  \n",
       "2                            omg its already 7:30 :O  \n",
       "3            .. Omgaga. Im sooo  im gunna CRy. I'...  \n",
       "4           i think mi bf is cheating on me!!!   ...  "
      ]
     },
     "execution_count": 1,
     "metadata": {},
     "output_type": "execute_result"
    }
   ],
   "source": [
    "path = 'Sentiment_Analysis_Dataset.csv'\n",
    "import numpy as np # linear algebra\n",
    "import pandas as pd # data processing, CSV file I/O (e.g. pd.read_csv)\n",
    "df = pd.read_csv(path , error_bad_lines=False)\n",
    "df.head()\n",
    "\n",
    "\n"
   ]
  },
  {
   "cell_type": "code",
   "execution_count": 2,
   "metadata": {},
   "outputs": [
    {
     "name": "stdout",
     "output_type": "stream",
     "text": [
      " Source Sentiment140 =  1577269\n",
      " Source Kaggle =  1343\n",
      " Positive  =  790177  Negative  =  788435\n"
     ]
    }
   ],
   "source": [
    "dfSentiment140 = df[(df['SentimentSource'] == 'Sentiment140' )]\n",
    "print (' Source Sentiment140 = ', dfSentiment140.shape[0])\n",
    "dfKaggle = df[(df['SentimentSource'] == 'Kaggle' )]\n",
    "print (' Source Kaggle = ', dfKaggle.shape[0])\n",
    "dfpositive = df[(df['Sentiment'] == 1 )]\n",
    "print (' Positive  = ', df[(df['Sentiment'] == 1 )].shape[0], ' Negative  = ', df[(df['Sentiment'] == 0 )].shape[0] )\n",
    "\n",
    "\n"
   ]
  },
  {
   "cell_type": "markdown",
   "metadata": {},
   "source": [
    "# Check Zipf law for the top-10 most positive words, top-10 negative words \n",
    "\n"
   ]
  },
  {
   "cell_type": "code",
   "execution_count": 3,
   "metadata": {},
   "outputs": [],
   "source": [
    "import re\n",
    "import nltk\n",
    "import string\n",
    "from collections import Counter \n",
    "\n",
    "\n",
    "def calcDistribution(subdf):\n",
    "    lista = subdf['SentimentText'].tolist()\n",
    "    sent_str = \"\"\n",
    "    for i in lista:\n",
    "        sent_str += str(i) + \" \"\n",
    "        \n",
    "    sent_str = re.sub(\"[^a-zA-Z]\", \" \" , sent_str )\n",
    "    words = nltk.word_tokenize(sent_str.lower())  \n",
    "    # Pass the split_it list to instance of Counter class. \n",
    "      \n",
    "    # most_common() produces k frequently encountered \n",
    "    # input values and their respective counts. \n",
    "    return Counter(words).most_common(10)\n",
    "\n",
    "\n",
    "\n"
   ]
  },
  {
   "cell_type": "code",
   "execution_count": 4,
   "metadata": {},
   "outputs": [],
   "source": [
    "import matplotlib\n",
    "import matplotlib.pyplot as plt\n",
    "import numpy as np\n",
    "\n",
    "def printDistibution(most_occur):\n",
    "    fqs=[]\n",
    "    ratings=[]\n",
    "    i =1\n",
    "    for word_occur in most_occur:\n",
    "        fq= word_occur[1]\n",
    "        word =  word_occur[0]\n",
    "        fqs.append(fq)\n",
    "        ratings.append(i)\n",
    "        print(str(i) + ' ' + word + ' ' + str(fq)) \n",
    "        i = i +1\n",
    "\n",
    "\n",
    "    fig, ax = plt.subplots()\n",
    "    ax.plot(ratings, fqs )\n",
    "\n",
    "    ax.set(xlabel='rating ', ylabel='frequency ',\n",
    "           title='Distribution function')\n",
    "    ax.grid()\n",
    "    plt.show()\n",
    "\n"
   ]
  },
  {
   "cell_type": "code",
   "execution_count": 5,
   "metadata": {},
   "outputs": [
    {
     "name": "stdout",
     "output_type": "stream",
     "text": [
      "1 i 381880\n",
      "2 the 265357\n",
      "3 to 250508\n",
      "4 a 199949\n",
      "5 you 196945\n",
      "6 and 149097\n",
      "7 it 147212\n",
      "8 my 125192\n",
      "9 for 116599\n",
      "10 is 109231\n"
     ]
    },
    {
     "data": {
      "image/png": "[encoded data removed]",
      "text/plain": [
       "<Figure size 432x288 with 1 Axes>"
      ]
     },
     "metadata": {
      "needs_background": "light"
     },
     "output_type": "display_data"
    }
   ],
   "source": [
    "# distribution od positive phases\n",
    "dfpositive = df[(df['Sentiment'] == 1 )]\n",
    "most_occurpos = calcDistribution(dfpositive)\n",
    "printDistibution(most_occurpos) \n",
    "\n",
    "\n"
   ]
  },
  {
   "cell_type": "code",
   "execution_count": 6,
   "metadata": {},
   "outputs": [
    {
     "name": "stdout",
     "output_type": "stream",
     "text": [
      "1 i 572591\n",
      "2 to 311340\n",
      "3 the 257932\n",
      "4 my 188932\n",
      "5 a 183232\n",
      "6 it 157044\n",
      "7 and 153753\n",
      "8 is 127717\n",
      "9 t 126114\n",
      "10 in 115303\n"
     ]
    },
    {
     "data": {
      "image/png": "[encoded data removed]",
      "text/plain": [
       "<Figure size 432x288 with 1 Axes>"
      ]
     },
     "metadata": {
      "needs_background": "light"
     },
     "output_type": "display_data"
    }
   ],
   "source": [
    "# distribution od positive phases\n",
    "dfNeg = df[(df['Sentiment'] == 0 )]\n",
    "most_occurNeg = calcDistribution(dfNeg)\n",
    "printDistibution(most_occurNeg) \n",
    "\n",
    "\n",
    "\n",
    "\n",
    "  "
   ]
  },
  {
   "cell_type": "markdown",
   "metadata": {},
   "source": [
    "The distribuiton of words of the  positive and negative prases is in agreement with dZipf law\n",
    "The frequency of the words are inversely proportional to its rank in the frequency table\n",
    "\n"
   ]
  },
  {
   "cell_type": "markdown",
   "metadata": {},
   "source": [
    "# Sentiment Classifier \n",
    "   \n",
    "    As Classifier I used a NaiveBayes and bag of words model.\n",
    "    \n",
    "   NaiveBayes is a very simple technique that can generate good results for sentiment analysis if you have a  good bag of words.\n",
    "   To help the classifier I simplified the bag of words by some simpel modifications:\n",
    "      - take off the english stop words;\n",
    "      - trasnform the words in lower case ;\n",
    "      - replace the special characters by space character. \n",
    "       "
   ]
  },
  {
   "cell_type": "markdown",
   "metadata": {},
   "source": [
    "##  let's get the English stop words\n",
    "\n"
   ]
  },
  {
   "cell_type": "code",
   "execution_count": 7,
   "metadata": {},
   "outputs": [
    {
     "name": "stderr",
     "output_type": "stream",
     "text": [
      "[nltk_data] Downloading package stopwords to /home/leo/nltk_data...\n",
      "[nltk_data]   Package stopwords is already up-to-date!\n"
     ]
    }
   ],
   "source": [
    "import nltk\n",
    "import string\n",
    "nltk.download(\"stopwords\")\n",
    "stop_words = nltk.corpus.stopwords.words(\"english\") + list(string.punctuation)\n"
   ]
  },
  {
   "cell_type": "code",
   "execution_count": 8,
   "metadata": {},
   "outputs": [
    {
     "data": {
      "text/html": [
       "<div>\n",
       "<style scoped>\n",
       "    .dataframe tbody tr th:only-of-type {\n",
       "        vertical-align: middle;\n",
       "    }\n",
       "\n",
       "    .dataframe tbody tr th {\n",
       "        vertical-align: top;\n",
       "    }\n",
       "\n",
       "    .dataframe thead th {\n",
       "        text-align: right;\n",
       "    }\n",
       "</style>\n",
       "<table border=\"1\" class=\"dataframe\">\n",
       "  <thead>\n",
       "    <tr style=\"text-align: right;\">\n",
       "      <th></th>\n",
       "      <th>Sentiment</th>\n",
       "      <th>SentimentText</th>\n",
       "    </tr>\n",
       "  </thead>\n",
       "  <tbody>\n",
       "    <tr>\n",
       "      <th>0</th>\n",
       "      <td>0</td>\n",
       "      <td>is so sad for my APL frie...</td>\n",
       "    </tr>\n",
       "    <tr>\n",
       "      <th>1</th>\n",
       "      <td>0</td>\n",
       "      <td>I missed the New Moon trail...</td>\n",
       "    </tr>\n",
       "    <tr>\n",
       "      <th>2</th>\n",
       "      <td>1</td>\n",
       "      <td>omg its already 7:30 :O</td>\n",
       "    </tr>\n",
       "    <tr>\n",
       "      <th>3</th>\n",
       "      <td>0</td>\n",
       "      <td>.. Omgaga. Im sooo  im gunna CRy. I'...</td>\n",
       "    </tr>\n",
       "    <tr>\n",
       "      <th>4</th>\n",
       "      <td>0</td>\n",
       "      <td>i think mi bf is cheating on me!!!   ...</td>\n",
       "    </tr>\n",
       "  </tbody>\n",
       "</table>\n",
       "</div>"
      ],
      "text/plain": [
       "   Sentiment                                      SentimentText\n",
       "0          0                       is so sad for my APL frie...\n",
       "1          0                     I missed the New Moon trail...\n",
       "2          1                            omg its already 7:30 :O\n",
       "3          0            .. Omgaga. Im sooo  im gunna CRy. I'...\n",
       "4          0           i think mi bf is cheating on me!!!   ..."
      ]
     },
     "execution_count": 8,
     "metadata": {},
     "output_type": "execute_result"
    }
   ],
   "source": [
    "dimention = df.shape[0]\n",
    "df[\"SentimentText\"].head()\n",
    "df = df.drop(['ItemID'], axis = 1)\n",
    "df = df.drop(['SentimentSource'], axis = 1)\n",
    "\n",
    "df.head()\n",
    "\n",
    "\n"
   ]
  },
  {
   "cell_type": "code",
   "execution_count": 9,
   "metadata": {},
   "outputs": [
    {
     "name": "stdout",
     "output_type": "stream",
     "text": [
      "(1263104, 2)\n",
      "(315508, 2)\n"
     ]
    }
   ],
   "source": [
    "# split the data set for train and test \n",
    "def splitDataSet(df,  porportion):\n",
    "    pdrandom = pd.DataFrame(np.random.randn(dimention, 2))\n",
    "    msk = np.random.rand(len(df)) < porportion\n",
    "\n",
    "    train = df[msk]\n",
    "    test = df[~msk]\n",
    "    return train , test\n",
    "\n",
    "train, test  = splitDataSet(df, 0.8)\n",
    "print(train.shape)\n",
    "print(test.shape)\n"
   ]
  },
  {
   "cell_type": "markdown",
   "metadata": {},
   "source": []
  },
  {
   "cell_type": "code",
   "execution_count": 10,
   "metadata": {},
   "outputs": [
    {
     "name": "stdout",
     "output_type": "stream",
     "text": [
      "{'house': 1, 'big': 1, 'great': 1, 'love': 1}\n"
     ]
    }
   ],
   "source": [
    "import re\n",
    "# SentimentText  Sentiment\n",
    "def build_bag_of_words_filtered(sentence):\n",
    "    \n",
    "    sentence = re.sub(\"[^a-zA-Z]\", \" \",sentence.lower() )\n",
    "    words = nltk.word_tokenize(sentence.lower())\n",
    "    dicbag = {}\n",
    "    for word in words:\n",
    "        if not word in stop_words:\n",
    "            dicbag[word] = 1\n",
    "    return dicbag\n",
    "\n",
    "\n",
    "tokesn = build_bag_of_words_filtered(\"the House is.. so big@@ great my#Love\")\n",
    "\n",
    "print(tokesn)\n",
    "\n",
    "\n",
    "\n"
   ]
  },
  {
   "cell_type": "code",
   "execution_count": 11,
   "metadata": {},
   "outputs": [],
   "source": [
    "def getDataSet(data):\n",
    "    dataset = []\n",
    "    for index, row in data.iterrows():\n",
    "        dicbag = build_bag_of_words_filtered(row['SentimentText'])\n",
    "        thistuple = (dicbag,row['Sentiment'])\n",
    "        dataset.append(thistuple)\n",
    "    return dataset\n",
    "    \n",
    "traindataset = getDataSet(train)\n"
   ]
  },
  {
   "cell_type": "code",
   "execution_count": 12,
   "metadata": {},
   "outputs": [],
   "source": [
    "testDaset = getDataSet(test)\n"
   ]
  },
  {
   "cell_type": "code",
   "execution_count": 13,
   "metadata": {},
   "outputs": [
    {
     "name": "stdout",
     "output_type": "stream",
     "text": [
      "1263104\n",
      "315508\n"
     ]
    }
   ],
   "source": [
    "print(len(traindataset))\n",
    "print(len(testDaset))\n",
    "\n",
    "    \n",
    " "
   ]
  },
  {
   "cell_type": "markdown",
   "metadata": {},
   "source": [
    "## Using NaiveBayesClassifier train the model \n",
    "\n"
   ]
  },
  {
   "cell_type": "code",
   "execution_count": 14,
   "metadata": {},
   "outputs": [],
   "source": [
    "from nltk.classify import NaiveBayesClassifier\n",
    "sentiment_classifier = NaiveBayesClassifier.train(traindataset )\n",
    "\n"
   ]
  },
  {
   "cell_type": "code",
   "execution_count": 15,
   "metadata": {},
   "outputs": [
    {
     "name": "stdout",
     "output_type": "stream",
     "text": [
      "Accuracy train set complete = 83.3783283086745\n"
     ]
    }
   ],
   "source": [
    "acuracy = nltk.classify.util.accuracy(sentiment_classifier, traindataset)*100\n",
    "print('Accuracy train set complete =', acuracy)\n",
    "\n"
   ]
  },
  {
   "cell_type": "code",
   "execution_count": 16,
   "metadata": {},
   "outputs": [
    {
     "name": "stdout",
     "output_type": "stream",
     "text": [
      "Accuracy test set complete = 76.56604586888447\n"
     ]
    }
   ],
   "source": [
    "\n",
    "acuracytest = nltk.classify.util.accuracy(sentiment_classifier, testDaset)*100\n",
    "print('Accuracy test set complete =', acuracytest)\n"
   ]
  },
  {
   "cell_type": "code",
   "execution_count": null,
   "metadata": {},
   "outputs": [],
   "source": [
    "\n"
   ]
  },
  {
   "cell_type": "code",
   "execution_count": 17,
   "metadata": {},
   "outputs": [
    {
     "name": "stdout",
     "output_type": "stream",
     "text": [
      "Most Informative Features\n",
      "            tweeteradder = 1                   1 : 0      =    435.1 : 1.0\n",
      "                 fawcett = 1                   0 : 1      =    188.2 : 1.0\n",
      "              recommends = 1                   1 : 0      =     61.5 : 1.0\n",
      "                    sadd = 1                   0 : 1      =     57.2 : 1.0\n",
      "               banksyart = 1                   1 : 0      =     50.2 : 1.0\n",
      "             shareholder = 1                   1 : 0      =     44.9 : 1.0\n",
      "                 sadface = 1                   0 : 1      =     43.1 : 1.0\n",
      "                  ouchie = 1                   0 : 1      =     35.9 : 1.0\n",
      "                  farrah = 1                   0 : 1      =     35.8 : 1.0\n",
      "               xbllygbsn = 1                   0 : 1      =     35.8 : 1.0\n",
      "                fuzzball = 1                   1 : 0      =     30.5 : 1.0\n",
      "                 eddings = 1                   0 : 1      =     30.4 : 1.0\n",
      "             disapointed = 1                   0 : 1      =     29.9 : 1.0\n",
      "             condolences = 1                   0 : 1      =     29.8 : 1.0\n",
      "               airfrance = 1                   0 : 1      =     29.7 : 1.0\n",
      "                 hurtful = 1                   0 : 1      =     29.7 : 1.0\n",
      "              pleasantly = 1                   1 : 0      =     29.6 : 1.0\n",
      "                  boohoo = 1                   0 : 1      =     29.1 : 1.0\n",
      "               trackball = 1                   0 : 1      =     28.4 : 1.0\n",
      "                 unloved = 1                   0 : 1      =     28.2 : 1.0\n"
     ]
    }
   ],
   "source": [
    "\n",
    "most = sentiment_classifier.show_most_informative_features(20)\n"
   ]
  },
  {
   "cell_type": "code",
   "execution_count": 18,
   "metadata": {},
   "outputs": [],
   "source": [
    "def show_most_informative_word(sentiment_classifier, sentiment, n):\n",
    "        # Determine the most relevant features, and display them.\n",
    "        cpdist = sentiment_classifier._feature_probdist\n",
    "        \n",
    "        \n",
    "        for (fname, fval) in sentiment_classifier.most_informative_features(100):\n",
    "\n",
    "            def labelprob(l):\n",
    "                return cpdist[l, fname].prob(fval)\n",
    "\n",
    "            labels = sorted(\n",
    "                [l for l in sentiment_classifier._labels if fval in cpdist[l, fname].samples()],\n",
    "                key=labelprob,\n",
    "            )\n",
    "            if len(labels) == 1:\n",
    "                continue\n",
    "                \n",
    "            if labels[0] == sentiment:    \n",
    "                print(fname )    \n",
    "                n = n -1\n",
    "            if n ==0:\n",
    "                 return\n",
    "                \n",
    "           \n"
   ]
  },
  {
   "cell_type": "code",
   "execution_count": 19,
   "metadata": {},
   "outputs": [
    {
     "name": "stdout",
     "output_type": "stream",
     "text": [
      "The top-10 most positive words\n",
      "tweeteradder\n",
      "recommends\n",
      "banksyart\n",
      "shareholder\n",
      "fuzzball\n",
      "pleasantly\n",
      "ivybean\n",
      "smilin\n",
      "thedailysurvey\n",
      "nurul\n"
     ]
    }
   ],
   "source": [
    "print(\"The top-10 most positive words\")\n",
    "show_most_informative_word(sentiment_classifier, 0, 10)\n",
    "    "
   ]
  },
  {
   "cell_type": "code",
   "execution_count": 21,
   "metadata": {},
   "outputs": [
    {
     "name": "stdout",
     "output_type": "stream",
     "text": [
      "The top-10 most negative words\n",
      "fawcett\n",
      "sadd\n",
      "sadface\n",
      "ouchie\n",
      "farrah\n",
      "xbllygbsn\n",
      "eddings\n",
      "disapointed\n",
      "condolences\n",
      "airfrance\n"
     ]
    }
   ],
   "source": [
    "print(\"The top-10 most negative words\")\n",
    "show_most_informative_word(sentiment_classifier, 1, 10)\n"
   ]
  }
 ],
 "metadata": {
  "kernelspec": {
   "display_name": "Python 3",
   "language": "python",
   "name": "python3"
  },
  "language_info": {
   "codemirror_mode": {
    "name": "ipython",
    "version": 3
   },
   "file_extension": ".py",
   "mimetype": "text/x-python",
   "name": "python",
   "nbconvert_exporter": "python",
   "pygments_lexer": "ipython3",
   "version": "3.6.8"
  }
 },
 "nbformat": 4,
 "nbformat_minor": 2
}
