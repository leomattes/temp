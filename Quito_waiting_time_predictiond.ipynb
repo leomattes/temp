{
 "cells": [
  {
   "cell_type": "markdown",
   "metadata": {},
   "source": [
    "# How well can the trip waiting time be predicted \n",
    "\n",
    "\n",
    "This notebook presents a model to predict the waiting time in a taxi ride in Quito\n",
    "\n",
    "## Data SET \n",
    "The used dataset contains date from Taxi rides in Quito  collected from June 2016 until July 20th 2017.  it's avable in https://www.kaggle.com/mnavas/taxi-routes-for-mexico-city-and-quito. \n",
    "\n"
   ]
  },
  {
   "cell_type": "code",
   "execution_count": 215,
   "metadata": {},
   "outputs": [
    {
     "data": {
      "text/html": [
       "<div>\n",
       "<style scoped>\n",
       "    .dataframe tbody tr th:only-of-type {\n",
       "        vertical-align: middle;\n",
       "    }\n",
       "\n",
       "    .dataframe tbody tr th {\n",
       "        vertical-align: top;\n",
       "    }\n",
       "\n",
       "    .dataframe thead th {\n",
       "        text-align: right;\n",
       "    }\n",
       "</style>\n",
       "<table border=\"1\" class=\"dataframe\">\n",
       "  <thead>\n",
       "    <tr style=\"text-align: right;\">\n",
       "      <th></th>\n",
       "      <th>id</th>\n",
       "      <th>pickup_longitude</th>\n",
       "      <th>pickup_latitude</th>\n",
       "      <th>dropoff_longitude</th>\n",
       "      <th>dropoff_latitude</th>\n",
       "      <th>trip_duration</th>\n",
       "      <th>dist_meters</th>\n",
       "      <th>wait_sec</th>\n",
       "    </tr>\n",
       "  </thead>\n",
       "  <tbody>\n",
       "    <tr>\n",
       "      <th>count</th>\n",
       "      <td>32366.000000</td>\n",
       "      <td>32366.000000</td>\n",
       "      <td>32366.000000</td>\n",
       "      <td>32366.000000</td>\n",
       "      <td>32366.000000</td>\n",
       "      <td>3.236600e+04</td>\n",
       "      <td>3.236600e+04</td>\n",
       "      <td>3.236600e+04</td>\n",
       "    </tr>\n",
       "    <tr>\n",
       "      <th>mean</th>\n",
       "      <td>16183.500000</td>\n",
       "      <td>-78.492371</td>\n",
       "      <td>-0.189042</td>\n",
       "      <td>-78.492901</td>\n",
       "      <td>-0.191341</td>\n",
       "      <td>4.138239e+04</td>\n",
       "      <td>7.302745e+04</td>\n",
       "      <td>2.204058e+07</td>\n",
       "    </tr>\n",
       "    <tr>\n",
       "      <th>std</th>\n",
       "      <td>9343.403743</td>\n",
       "      <td>0.043108</td>\n",
       "      <td>0.076153</td>\n",
       "      <td>0.044783</td>\n",
       "      <td>0.085623</td>\n",
       "      <td>5.842226e+05</td>\n",
       "      <td>1.193671e+07</td>\n",
       "      <td>7.311736e+08</td>\n",
       "    </tr>\n",
       "    <tr>\n",
       "      <th>min</th>\n",
       "      <td>1.000000</td>\n",
       "      <td>-80.681697</td>\n",
       "      <td>-3.454279</td>\n",
       "      <td>-80.681721</td>\n",
       "      <td>-3.574739</td>\n",
       "      <td>-3.887110e+05</td>\n",
       "      <td>1.100000e+01</td>\n",
       "      <td>0.000000e+00</td>\n",
       "    </tr>\n",
       "    <tr>\n",
       "      <th>25%</th>\n",
       "      <td>8092.250000</td>\n",
       "      <td>-78.505867</td>\n",
       "      <td>-0.218344</td>\n",
       "      <td>-78.505734</td>\n",
       "      <td>-0.220508</td>\n",
       "      <td>5.000000e+02</td>\n",
       "      <td>2.148000e+03</td>\n",
       "      <td>1.070000e+02</td>\n",
       "    </tr>\n",
       "    <tr>\n",
       "      <th>50%</th>\n",
       "      <td>16183.500000</td>\n",
       "      <td>-78.490135</td>\n",
       "      <td>-0.181979</td>\n",
       "      <td>-78.490073</td>\n",
       "      <td>-0.185721</td>\n",
       "      <td>8.970000e+02</td>\n",
       "      <td>4.124000e+03</td>\n",
       "      <td>2.430000e+02</td>\n",
       "    </tr>\n",
       "    <tr>\n",
       "      <th>75%</th>\n",
       "      <td>24274.750000</td>\n",
       "      <td>-78.475783</td>\n",
       "      <td>-0.148715</td>\n",
       "      <td>-78.477443</td>\n",
       "      <td>-0.149867</td>\n",
       "      <td>1.710000e+03</td>\n",
       "      <td>7.475000e+03</td>\n",
       "      <td>4.990000e+02</td>\n",
       "    </tr>\n",
       "    <tr>\n",
       "      <th>max</th>\n",
       "      <td>32366.000000</td>\n",
       "      <td>-78.009669</td>\n",
       "      <td>0.866441</td>\n",
       "      <td>-77.710158</td>\n",
       "      <td>0.866759</td>\n",
       "      <td>7.002605e+07</td>\n",
       "      <td>2.147484e+09</td>\n",
       "      <td>9.516306e+10</td>\n",
       "    </tr>\n",
       "  </tbody>\n",
       "</table>\n",
       "</div>"
      ],
      "text/plain": [
       "                 id  pickup_longitude  pickup_latitude  dropoff_longitude  \\\n",
       "count  32366.000000      32366.000000     32366.000000       32366.000000   \n",
       "mean   16183.500000        -78.492371        -0.189042         -78.492901   \n",
       "std     9343.403743          0.043108         0.076153           0.044783   \n",
       "min        1.000000        -80.681697        -3.454279         -80.681721   \n",
       "25%     8092.250000        -78.505867        -0.218344         -78.505734   \n",
       "50%    16183.500000        -78.490135        -0.181979         -78.490073   \n",
       "75%    24274.750000        -78.475783        -0.148715         -78.477443   \n",
       "max    32366.000000        -78.009669         0.866441         -77.710158   \n",
       "\n",
       "       dropoff_latitude  trip_duration   dist_meters      wait_sec  \n",
       "count      32366.000000   3.236600e+04  3.236600e+04  3.236600e+04  \n",
       "mean          -0.191341   4.138239e+04  7.302745e+04  2.204058e+07  \n",
       "std            0.085623   5.842226e+05  1.193671e+07  7.311736e+08  \n",
       "min           -3.574739  -3.887110e+05  1.100000e+01  0.000000e+00  \n",
       "25%           -0.220508   5.000000e+02  2.148000e+03  1.070000e+02  \n",
       "50%           -0.185721   8.970000e+02  4.124000e+03  2.430000e+02  \n",
       "75%           -0.149867   1.710000e+03  7.475000e+03  4.990000e+02  \n",
       "max            0.866759   7.002605e+07  2.147484e+09  9.516306e+10  "
      ]
     },
     "execution_count": 215,
     "metadata": {},
     "output_type": "execute_result"
    }
   ],
   "source": [
    "\n",
    "import numpy as np # linear algebra\n",
    "import pandas as pd # data processing, CSV file I/O (e.g. pd.read_csv)\n",
    "\n",
    "df = pd.read_csv('uio_clean.csv')\n",
    "\n",
    "\n",
    "df.describe()"
   ]
  },
  {
   "cell_type": "markdown",
   "metadata": {},
   "source": [
    "**The data table description suggests that we have some discrepancy with respect to trip_duration , pickup_longitude , wait_sec **\n",
    "There is negative values to  trip_duration \n",
    "The are values extremely high for trip duration, dist_meters, wait_sec, and latitudes. \n",
    "\n",
    "Let's investigate trip_duration,  wait_sec and dist_meters:\n",
    "\n",
    "\n"
   ]
  },
  {
   "cell_type": "code",
   "execution_count": 216,
   "metadata": {},
   "outputs": [
    {
     "name": "stderr",
     "output_type": "stream",
     "text": [
      "/usr/local/lib/python3.6/dist-packages/ipykernel_launcher.py:2: RuntimeWarning: invalid value encountered in log1p\n",
      "  \n",
      "/home/leo/.local/lib/python3.6/site-packages/numpy/lib/histograms.py:824: RuntimeWarning: invalid value encountered in greater_equal\n",
      "  keep = (tmp_a >= first_edge)\n",
      "/home/leo/.local/lib/python3.6/site-packages/numpy/lib/histograms.py:825: RuntimeWarning: invalid value encountered in less_equal\n",
      "  keep &= (tmp_a <= last_edge)\n"
     ]
    },
    {
     "data": {
      "image/png": "[encoded data removed]",
      "text/plain": [
       "<Figure size 432x288 with 1 Axes>"
      ]
     },
     "metadata": {
      "needs_background": "light"
     },
     "output_type": "display_data"
    },
    {
     "data": {
      "image/png": "[encoded data removed]",
      "text/plain": [
       "<Figure size 432x288 with 1 Axes>"
      ]
     },
     "metadata": {
      "needs_background": "light"
     },
     "output_type": "display_data"
    },
    {
     "data": {
      "image/png": "[encoded data removed]",
      "text/plain": [
       "<Figure size 432x288 with 1 Axes>"
      ]
     },
     "metadata": {
      "needs_background": "light"
     },
     "output_type": "display_data"
    },
    {
     "name": "stderr",
     "output_type": "stream",
     "text": [
      "/usr/local/lib/python3.6/dist-packages/ipykernel_launcher.py:14: RuntimeWarning: invalid value encountered in log1p\n",
      "  \n"
     ]
    },
    {
     "data": {
      "image/png": "[encoded data removed]",
      "text/plain": [
       "<Figure size 432x288 with 1 Axes>"
      ]
     },
     "metadata": {
      "needs_background": "light"
     },
     "output_type": "display_data"
    }
   ],
   "source": [
    "import matplotlib.pyplot as plt\n",
    "y = np.log1p(df['trip_duration'])\n",
    "plt.hist(y, bins=200) \n",
    "plt.show()\n",
    "\n",
    "y = np.log1p(df['wait_sec'])\n",
    "plt.hist(y, bins=200)  \n",
    "plt.show()\n",
    "\n",
    "y = np.log1p(df['dist_meters'])\n",
    "plt.hist(y, bins=200)  \n",
    "plt.show()\n",
    "\n",
    "y = np.log1p(df['pickup_latitude'])\n",
    "plt.hist(-y, bins=200)  \n",
    "plt.show()\n",
    "\n",
    "\n"
   ]
  },
  {
   "cell_type": "code",
   "execution_count": null,
   "metadata": {},
   "outputs": [],
   "source": []
  },
  {
   "cell_type": "code",
   "execution_count": 255,
   "metadata": {},
   "outputs": [
    {
     "data": {
      "image/png": "[encoded data removed]",
      "text/plain": [
       "<Figure size 432x288 with 1 Axes>"
      ]
     },
     "metadata": {
      "needs_background": "light"
     },
     "output_type": "display_data"
    },
    {
     "data": {
      "image/png": "[encoded data removed]",
      "text/plain": [
       "<Figure size 432x288 with 1 Axes>"
      ]
     },
     "metadata": {
      "needs_background": "light"
     },
     "output_type": "display_data"
    },
    {
     "data": {
      "image/png": "[encoded data removed]",
      "text/plain": [
       "<Figure size 432x288 with 1 Axes>"
      ]
     },
     "metadata": {
      "needs_background": "light"
     },
     "output_type": "display_data"
    }
   ],
   "source": [
    "# base on the graph let's take off the  outliers\n",
    "\n",
    "maxwait_sec = 2980 # e ^8 \n",
    "maxTripDuration  = 2980 # e ^10 \n",
    "maxDist=   162754 # e ^12 \n",
    "minlatitude = -0.4\n",
    "df=df.dropna()\n",
    "\n",
    "df = df[(df['trip_duration'] > 10 )]\n",
    "df=  df[(df['trip_duration'] < maxTripDuration )] \n",
    "df = df[df['wait_sec'] <=maxwait_sec ]\n",
    "df = df[(df['wait_sec'] > 10 )]\n",
    "df=  df[(df['dist_meters'] < maxDist )] \n",
    "df=  df[(df['pickup_latitude']< 0 )] \n",
    "df=  df[(df['pickup_latitude'] > minlatitude )] \n",
    "df=  df[(df['dropoff_latitude']< 0 )] \n",
    "df=  df[(df['dropoff_latitude'] > minlatitude )] \n",
    "\n",
    "\n",
    "#df=  df[(df['dropoff_latitude']> 0 )] \n",
    "#df=  df[(df['dropoff_latitude'] < minlatitude )] \n",
    "\n",
    "\n",
    "\n",
    "y = np.log1p(df['wait_sec'])\n",
    "plt.hist(y, bins=200)  \n",
    "plt.show()\n",
    "\n",
    "y = np.log1p(df['dist_meters'])\n",
    "plt.hist(y, bins=200)  \n",
    "plt.show()\n",
    "\n",
    "\n",
    "y = np.log1p(df['pickup_latitude'])\n",
    "plt.hist(-y, bins=200)  \n",
    "plt.show()"
   ]
  },
  {
   "cell_type": "code",
   "execution_count": 218,
   "metadata": {},
   "outputs": [
    {
     "data": {
      "text/html": [
       "<div>\n",
       "<style scoped>\n",
       "    .dataframe tbody tr th:only-of-type {\n",
       "        vertical-align: middle;\n",
       "    }\n",
       "\n",
       "    .dataframe tbody tr th {\n",
       "        vertical-align: top;\n",
       "    }\n",
       "\n",
       "    .dataframe thead th {\n",
       "        text-align: right;\n",
       "    }\n",
       "</style>\n",
       "<table border=\"1\" class=\"dataframe\">\n",
       "  <thead>\n",
       "    <tr style=\"text-align: right;\">\n",
       "      <th></th>\n",
       "      <th>id</th>\n",
       "      <th>pickup_longitude</th>\n",
       "      <th>pickup_latitude</th>\n",
       "      <th>dropoff_longitude</th>\n",
       "      <th>dropoff_latitude</th>\n",
       "      <th>trip_duration</th>\n",
       "      <th>dist_meters</th>\n",
       "      <th>wait_sec</th>\n",
       "    </tr>\n",
       "  </thead>\n",
       "  <tbody>\n",
       "    <tr>\n",
       "      <th>count</th>\n",
       "      <td>26374.000000</td>\n",
       "      <td>26374.000000</td>\n",
       "      <td>26374.000000</td>\n",
       "      <td>26374.000000</td>\n",
       "      <td>26374.000000</td>\n",
       "      <td>26374.000000</td>\n",
       "      <td>26374.000000</td>\n",
       "      <td>26374.000000</td>\n",
       "    </tr>\n",
       "    <tr>\n",
       "      <th>mean</th>\n",
       "      <td>16186.745431</td>\n",
       "      <td>-78.491625</td>\n",
       "      <td>-0.187565</td>\n",
       "      <td>-78.491973</td>\n",
       "      <td>-0.188970</td>\n",
       "      <td>935.233374</td>\n",
       "      <td>5089.956283</td>\n",
       "      <td>319.819709</td>\n",
       "    </tr>\n",
       "    <tr>\n",
       "      <th>std</th>\n",
       "      <td>9329.656349</td>\n",
       "      <td>0.028834</td>\n",
       "      <td>0.056775</td>\n",
       "      <td>0.029127</td>\n",
       "      <td>0.058027</td>\n",
       "      <td>629.842080</td>\n",
       "      <td>4821.716232</td>\n",
       "      <td>315.027013</td>\n",
       "    </tr>\n",
       "    <tr>\n",
       "      <th>min</th>\n",
       "      <td>1.000000</td>\n",
       "      <td>-79.167634</td>\n",
       "      <td>-0.397962</td>\n",
       "      <td>-79.198557</td>\n",
       "      <td>-0.388110</td>\n",
       "      <td>11.000000</td>\n",
       "      <td>20.000000</td>\n",
       "      <td>11.000000</td>\n",
       "    </tr>\n",
       "    <tr>\n",
       "      <th>25%</th>\n",
       "      <td>8151.250000</td>\n",
       "      <td>-78.505546</td>\n",
       "      <td>-0.215687</td>\n",
       "      <td>-78.504820</td>\n",
       "      <td>-0.217269</td>\n",
       "      <td>475.000000</td>\n",
       "      <td>2191.000000</td>\n",
       "      <td>110.000000</td>\n",
       "    </tr>\n",
       "    <tr>\n",
       "      <th>50%</th>\n",
       "      <td>16188.500000</td>\n",
       "      <td>-78.489971</td>\n",
       "      <td>-0.181802</td>\n",
       "      <td>-78.489823</td>\n",
       "      <td>-0.185432</td>\n",
       "      <td>785.000000</td>\n",
       "      <td>3909.000000</td>\n",
       "      <td>227.000000</td>\n",
       "    </tr>\n",
       "    <tr>\n",
       "      <th>75%</th>\n",
       "      <td>24305.500000</td>\n",
       "      <td>-78.475576</td>\n",
       "      <td>-0.149961</td>\n",
       "      <td>-78.477602</td>\n",
       "      <td>-0.151455</td>\n",
       "      <td>1261.000000</td>\n",
       "      <td>6555.750000</td>\n",
       "      <td>418.000000</td>\n",
       "    </tr>\n",
       "    <tr>\n",
       "      <th>max</th>\n",
       "      <td>32366.000000</td>\n",
       "      <td>-78.282944</td>\n",
       "      <td>-0.001295</td>\n",
       "      <td>-78.282557</td>\n",
       "      <td>-0.000558</td>\n",
       "      <td>2979.000000</td>\n",
       "      <td>148196.000000</td>\n",
       "      <td>2913.000000</td>\n",
       "    </tr>\n",
       "  </tbody>\n",
       "</table>\n",
       "</div>"
      ],
      "text/plain": [
       "                 id  pickup_longitude  pickup_latitude  dropoff_longitude  \\\n",
       "count  26374.000000      26374.000000     26374.000000       26374.000000   \n",
       "mean   16186.745431        -78.491625        -0.187565         -78.491973   \n",
       "std     9329.656349          0.028834         0.056775           0.029127   \n",
       "min        1.000000        -79.167634        -0.397962         -79.198557   \n",
       "25%     8151.250000        -78.505546        -0.215687         -78.504820   \n",
       "50%    16188.500000        -78.489971        -0.181802         -78.489823   \n",
       "75%    24305.500000        -78.475576        -0.149961         -78.477602   \n",
       "max    32366.000000        -78.282944        -0.001295         -78.282557   \n",
       "\n",
       "       dropoff_latitude  trip_duration    dist_meters      wait_sec  \n",
       "count      26374.000000   26374.000000   26374.000000  26374.000000  \n",
       "mean          -0.188970     935.233374    5089.956283    319.819709  \n",
       "std            0.058027     629.842080    4821.716232    315.027013  \n",
       "min           -0.388110      11.000000      20.000000     11.000000  \n",
       "25%           -0.217269     475.000000    2191.000000    110.000000  \n",
       "50%           -0.185432     785.000000    3909.000000    227.000000  \n",
       "75%           -0.151455    1261.000000    6555.750000    418.000000  \n",
       "max           -0.000558    2979.000000  148196.000000   2913.000000  "
      ]
     },
     "execution_count": 218,
     "metadata": {},
     "output_type": "execute_result"
    }
   ],
   "source": [
    "\n",
    "df.describe()"
   ]
  },
  {
   "cell_type": "code",
   "execution_count": 219,
   "metadata": {},
   "outputs": [
    {
     "data": {
      "text/html": [
       "<div>\n",
       "<style scoped>\n",
       "    .dataframe tbody tr th:only-of-type {\n",
       "        vertical-align: middle;\n",
       "    }\n",
       "\n",
       "    .dataframe tbody tr th {\n",
       "        vertical-align: top;\n",
       "    }\n",
       "\n",
       "    .dataframe thead th {\n",
       "        text-align: right;\n",
       "    }\n",
       "</style>\n",
       "<table border=\"1\" class=\"dataframe\">\n",
       "  <thead>\n",
       "    <tr style=\"text-align: right;\">\n",
       "      <th></th>\n",
       "      <th>id</th>\n",
       "      <th>vendor_id</th>\n",
       "      <th>pickup_datetime</th>\n",
       "      <th>dropoff_datetime</th>\n",
       "      <th>pickup_longitude</th>\n",
       "      <th>pickup_latitude</th>\n",
       "      <th>dropoff_longitude</th>\n",
       "      <th>dropoff_latitude</th>\n",
       "      <th>store_and_fwd_flag</th>\n",
       "      <th>trip_duration</th>\n",
       "      <th>dist_meters</th>\n",
       "      <th>wait_sec</th>\n",
       "      <th>month</th>\n",
       "      <th>hour</th>\n",
       "      <th>week_of_year</th>\n",
       "      <th>day_of_year</th>\n",
       "      <th>day_of_week</th>\n",
       "    </tr>\n",
       "  </thead>\n",
       "  <tbody>\n",
       "    <tr>\n",
       "      <th>0</th>\n",
       "      <td>1</td>\n",
       "      <td>Quito</td>\n",
       "      <td>2016-09-17 09:32:06</td>\n",
       "      <td>2016-09-17 10:05:51</td>\n",
       "      <td>-78.503922</td>\n",
       "      <td>-0.232824</td>\n",
       "      <td>-78.549447</td>\n",
       "      <td>-0.361363</td>\n",
       "      <td>N</td>\n",
       "      <td>2025</td>\n",
       "      <td>24228</td>\n",
       "      <td>346</td>\n",
       "      <td>9</td>\n",
       "      <td>9</td>\n",
       "      <td>37</td>\n",
       "      <td>261</td>\n",
       "      <td>5</td>\n",
       "    </tr>\n",
       "    <tr>\n",
       "      <th>3</th>\n",
       "      <td>4</td>\n",
       "      <td>Quito</td>\n",
       "      <td>2016-09-18 05:57:47</td>\n",
       "      <td>2016-09-18 06:30:00</td>\n",
       "      <td>-78.558076</td>\n",
       "      <td>-0.278241</td>\n",
       "      <td>-78.430220</td>\n",
       "      <td>-0.201934</td>\n",
       "      <td>N</td>\n",
       "      <td>1933</td>\n",
       "      <td>25146</td>\n",
       "      <td>302</td>\n",
       "      <td>9</td>\n",
       "      <td>5</td>\n",
       "      <td>37</td>\n",
       "      <td>262</td>\n",
       "      <td>6</td>\n",
       "    </tr>\n",
       "    <tr>\n",
       "      <th>4</th>\n",
       "      <td>5</td>\n",
       "      <td>Quito</td>\n",
       "      <td>2016-09-18 07:58:42</td>\n",
       "      <td>2016-09-18 08:14:29</td>\n",
       "      <td>-78.521818</td>\n",
       "      <td>-0.208480</td>\n",
       "      <td>-78.504558</td>\n",
       "      <td>-0.222462</td>\n",
       "      <td>N</td>\n",
       "      <td>948</td>\n",
       "      <td>4625</td>\n",
       "      <td>314</td>\n",
       "      <td>9</td>\n",
       "      <td>7</td>\n",
       "      <td>37</td>\n",
       "      <td>262</td>\n",
       "      <td>6</td>\n",
       "    </tr>\n",
       "    <tr>\n",
       "      <th>5</th>\n",
       "      <td>6</td>\n",
       "      <td>Quito</td>\n",
       "      <td>2016-08-27 04:19:02</td>\n",
       "      <td>2016-08-27 04:44:12</td>\n",
       "      <td>-78.509202</td>\n",
       "      <td>-0.194839</td>\n",
       "      <td>-78.518764</td>\n",
       "      <td>-0.228794</td>\n",
       "      <td>N</td>\n",
       "      <td>1510</td>\n",
       "      <td>5820</td>\n",
       "      <td>630</td>\n",
       "      <td>8</td>\n",
       "      <td>4</td>\n",
       "      <td>34</td>\n",
       "      <td>240</td>\n",
       "      <td>5</td>\n",
       "    </tr>\n",
       "    <tr>\n",
       "      <th>6</th>\n",
       "      <td>7</td>\n",
       "      <td>Quito</td>\n",
       "      <td>2016-09-18 10:08:57</td>\n",
       "      <td>2016-09-18 10:31:18</td>\n",
       "      <td>-78.481542</td>\n",
       "      <td>-0.154317</td>\n",
       "      <td>-78.518420</td>\n",
       "      <td>-0.191547</td>\n",
       "      <td>N</td>\n",
       "      <td>1341</td>\n",
       "      <td>7593</td>\n",
       "      <td>510</td>\n",
       "      <td>9</td>\n",
       "      <td>10</td>\n",
       "      <td>37</td>\n",
       "      <td>262</td>\n",
       "      <td>6</td>\n",
       "    </tr>\n",
       "  </tbody>\n",
       "</table>\n",
       "</div>"
      ],
      "text/plain": [
       "   id vendor_id     pickup_datetime    dropoff_datetime  pickup_longitude  \\\n",
       "0   1     Quito 2016-09-17 09:32:06 2016-09-17 10:05:51        -78.503922   \n",
       "3   4     Quito 2016-09-18 05:57:47 2016-09-18 06:30:00        -78.558076   \n",
       "4   5     Quito 2016-09-18 07:58:42 2016-09-18 08:14:29        -78.521818   \n",
       "5   6     Quito 2016-08-27 04:19:02 2016-08-27 04:44:12        -78.509202   \n",
       "6   7     Quito 2016-09-18 10:08:57 2016-09-18 10:31:18        -78.481542   \n",
       "\n",
       "   pickup_latitude  dropoff_longitude  dropoff_latitude store_and_fwd_flag  \\\n",
       "0        -0.232824         -78.549447         -0.361363                  N   \n",
       "3        -0.278241         -78.430220         -0.201934                  N   \n",
       "4        -0.208480         -78.504558         -0.222462                  N   \n",
       "5        -0.194839         -78.518764         -0.228794                  N   \n",
       "6        -0.154317         -78.518420         -0.191547                  N   \n",
       "\n",
       "   trip_duration  dist_meters  wait_sec  month  hour  week_of_year  \\\n",
       "0           2025        24228       346      9     9            37   \n",
       "3           1933        25146       302      9     5            37   \n",
       "4            948         4625       314      9     7            37   \n",
       "5           1510         5820       630      8     4            34   \n",
       "6           1341         7593       510      9    10            37   \n",
       "\n",
       "   day_of_year  day_of_week  \n",
       "0          261            5  \n",
       "3          262            6  \n",
       "4          262            6  \n",
       "5          240            5  \n",
       "6          262            6  "
      ]
     },
     "metadata": {},
     "output_type": "display_data"
    }
   ],
   "source": [
    "## For the trafic the time and the day of week are important information \n",
    "#\n",
    "df['pickup_datetime'] = pd.to_datetime(df['pickup_datetime'], format='%Y/%m/%d %H:%M:%S')\n",
    "df['dropoff_datetime'] = pd.to_datetime(df['dropoff_datetime'], format='%Y-%m-%d %H:%M:%S')\n",
    "df.loc[:, 'month'] = df['pickup_datetime'].dt.month\n",
    "df.loc[:, 'hour'] = df['pickup_datetime'].dt.hour\n",
    "df.loc[:, 'week_of_year'] = df['pickup_datetime'].dt.weekofyear\n",
    "df.loc[:, 'day_of_year'] = df['pickup_datetime'].dt.dayofyear\n",
    "df.loc[:, 'day_of_week'] = df['pickup_datetime'].dt.dayofweek\n",
    "display(df.head())\n",
    "\n",
    "\n"
   ]
  },
  {
   "cell_type": "markdown",
   "metadata": {},
   "source": [
    "## Let's invastigation the variance of some fetures as : <br>\n",
    "--Day of Week <br>\n",
    "--Distance<br>\n",
    "--avg_speed <br>\n",
    "--hour<br>\n",
    "--middle distance to Quito Downtown<br>\n",
    "--If is Holiday <br>\n",
    "\n"
   ]
  },
  {
   "cell_type": "code",
   "execution_count": 220,
   "metadata": {},
   "outputs": [
    {
     "data": {
      "image/png": "[encoded data removed]",
      "text/plain": [
       "<Figure size 432x288 with 1 Axes>"
      ]
     },
     "metadata": {
      "needs_background": "light"
     },
     "output_type": "display_data"
    }
   ],
   "source": [
    "ser = df.groupby('day_of_week').mean()\n",
    "import matplotlib.pyplot as plt\n",
    "#plt.bar( ser['day_of_week'], ser['wait_sec'])\n",
    "plt.bar( ser.index.values, ser['wait_sec'])\n",
    "plt.show()\n",
    "\n",
    "\n"
   ]
  },
  {
   "cell_type": "code",
   "execution_count": 221,
   "metadata": {},
   "outputs": [
    {
     "data": {
      "text/plain": [
       "count                   26374\n",
       "unique                  25838\n",
       "top       2017-01-21 07:43:00\n",
       "freq                        4\n",
       "first     2016-06-22 09:54:53\n",
       "last      2017-08-01 12:51:34\n",
       "Name: pickup_datetime, dtype: object"
      ]
     },
     "execution_count": 221,
     "metadata": {},
     "output_type": "execute_result"
    }
   ],
   "source": [
    "df['pickup_datetime'].describe()\n"
   ]
  },
  {
   "cell_type": "code",
   "execution_count": 222,
   "metadata": {},
   "outputs": [
    {
     "data": {
      "text/plain": [
       "<matplotlib.axes._subplots.AxesSubplot at 0x7f638c467fd0>"
      ]
     },
     "execution_count": 222,
     "metadata": {},
     "output_type": "execute_result"
    },
    {
     "data": {
      "image/png": "[encoded data removed]",
      "text/plain": [
       "<Figure size 432x288 with 1 Axes>"
      ]
     },
     "metadata": {
      "needs_background": "light"
     },
     "output_type": "display_data"
    }
   ],
   "source": [
    "# let's investigation the relation of the distance and the wait time\n",
    "distance =list(range(0, 30000, 1000))\n",
    "len(distance)\n",
    "#distance[59] =300000\n",
    "\n",
    "df['dist_meters_i']= pd.cut(x=df['dist_meters'], bins=distance)\n",
    "\n",
    "distance = df[['dist_meters_i','wait_sec']].groupby('dist_meters_i').mean()\n",
    "distance.plot(kind='bar')\n",
    "\n",
    "\n"
   ]
  },
  {
   "cell_type": "code",
   "execution_count": 223,
   "metadata": {},
   "outputs": [
    {
     "data": {
      "text/plain": [
       "<matplotlib.axes._subplots.AxesSubplot at 0x7f63859067f0>"
      ]
     },
     "execution_count": 223,
     "metadata": {},
     "output_type": "execute_result"
    },
    {
     "data": {
      "image/png": "[encoded data removed]",
      "text/plain": [
       "<Figure size 432x288 with 1 Axes>"
      ]
     },
     "metadata": {
      "needs_background": "light"
     },
     "output_type": "display_data"
    }
   ],
   "source": [
    "\n",
    "df['avg_speed'] = df['dist_meters'] / df['trip_duration'] \n",
    "df['avg_speed'].describe()\n",
    "speed_s =list(range(0, 65, 3))\n",
    "df['avg_speed_i']= pd.cut(x=df['avg_speed'], bins=speed_s)\n",
    "speeds = df[['avg_speed_i','wait_sec']].groupby('avg_speed_i').mean()\n",
    "speeds.plot(kind='bar')\n",
    "\n"
   ]
  },
  {
   "cell_type": "code",
   "execution_count": 224,
   "metadata": {},
   "outputs": [
    {
     "data": {
      "text/plain": [
       "<matplotlib.axes._subplots.AxesSubplot at 0x7f6385cbd0b8>"
      ]
     },
     "execution_count": 224,
     "metadata": {},
     "output_type": "execute_result"
    },
    {
     "data": {
      "image/png": "[encoded data removed]",
      "text/plain": [
       "<Figure size 432x288 with 1 Axes>"
      ]
     },
     "metadata": {
      "needs_background": "light"
     },
     "output_type": "display_data"
    }
   ],
   "source": [
    "\n",
    "df['hour'].describe()\n",
    "hours_s =list(range(1, 13))\n",
    "hours_s\n",
    "df['hour_i']= pd.cut(x=df['hour'], bins=hours_s)\n",
    "hours= df[['hour_i','wait_sec']].groupby('hour_i').mean()\n",
    "hours.plot(kind='bar')\n"
   ]
  },
  {
   "cell_type": "code",
   "execution_count": 225,
   "metadata": {},
   "outputs": [
    {
     "data": {
      "text/plain": [
       "<matplotlib.axes._subplots.AxesSubplot at 0x7f638dd83d68>"
      ]
     },
     "execution_count": 225,
     "metadata": {},
     "output_type": "execute_result"
    },
    {
     "data": {
      "image/png": "[encoded data removed]",
      "text/plain": [
       "<Figure size 432x288 with 1 Axes>"
      ]
     },
     "metadata": {
      "needs_background": "light"
     },
     "output_type": "display_data"
    }
   ],
   "source": [
    "Quito_dowTown_latitude = -0.1909886 #-0.361363\n",
    "Quito_dowTown_longitude = -78.4898697 #-78.492636\n",
    "#  \n",
    "\n",
    "df['midle_longitude']  = (df['pickup_longitude'] + df['dropoff_longitude']) /2 \n",
    "df['midle_latitude']  = (df['pickup_latitude'] + df['dropoff_latitude']) /2 \n",
    "\n",
    "\n",
    "df['midle_distance'] =  ((df['midle_latitude'] - Quito_dowTown_latitude)** 2) \n",
    "df['midle_distance'] =  (df['midle_distance'] +  ((df['midle_longitude'] - Quito_dowTown_longitude)** 2) ) ** 0.5\n",
    "df['midle_distance'] =  100 * ( (df['midle_distance'] ) ** 0.5)\n",
    "#df['midle_distance'].describe()\n",
    "\n",
    "mid_dist_s =list(range(1, 50, 5))\n",
    "df['midle_distance_i']= pd.cut(x=df['midle_distance'], bins=mid_dist_s)\n",
    "mid_dists= df[['midle_distance_i','wait_sec']].groupby('midle_distance_i').mean()\n",
    "\n",
    "mid_dists.plot(kind='bar')\n",
    "\n",
    "\n"
   ]
  },
  {
   "cell_type": "code",
   "execution_count": 226,
   "metadata": {},
   "outputs": [],
   "source": [
    "# https://www.officeholidays.com/countries/ecuador/2017.php - holidays list of Ecuador\n",
    "holidays = ['2016-01-01', '2016-02-08', '2016-02-09', '2016-03-25', '2016-03-27', \n",
    "            '2016-05-01', '2016-05-27', '2016-07-24', '2016-08-10', '2016-10-09', \n",
    "            '2016-11-02', '2016-11-03', '2016-12-06', '2016-12-25', \n",
    "            '2017-01-01', '2017-02-27', '2017-02-28', '2017-04-14', '2017-04-16', \n",
    "            '2017-05-01', '2017-05-24', '2017-07-24', '2017-08-10', '2017-10-09', \n",
    "            '2017-11-02', '2017-11-03', '2017-12-06', '2017-12-25']\n",
    "holidays = pd.to_datetime(holidays)\n",
    "\n",
    "df['isHoliday'] = 1*(pd.to_datetime(df['pickup_datetime'].dt.date).isin(holidays))\n"
   ]
  },
  {
   "cell_type": "code",
   "execution_count": 227,
   "metadata": {},
   "outputs": [
    {
     "data": {
      "text/plain": [
       "<matplotlib.axes._subplots.AxesSubplot at 0x7f638d966240>"
      ]
     },
     "execution_count": 227,
     "metadata": {},
     "output_type": "execute_result"
    },
    {
     "data": {
      "image/png": "[encoded data removed]",
      "text/plain": [
       "<Figure size 432x288 with 1 Axes>"
      ]
     },
     "metadata": {
      "needs_background": "light"
     },
     "output_type": "display_data"
    }
   ],
   "source": [
    "df['isHoliday'].describe()\n",
    "\n",
    "isHoliday= df[['isHoliday','wait_sec']].groupby('isHoliday').mean()\n",
    "isHoliday.plot(kind='bar')\n",
    "\n"
   ]
  },
  {
   "cell_type": "markdown",
   "metadata": {},
   "source": [
    "# Input Cadidates\n",
    "\n",
    "# Direct ones\n",
    "<font color='RED'>id</font> -> is not necessary <br>\n",
    "<font color='RED'>pickup_datetime</font>  for forecast the date will not repeat<br>\n",
    "<font color='RED'>dropoff_datetime</font> for forecast the date will not repeat <br>\n",
    "<font color='green'>pickup latitude and longitude</font>  Important  <br>\n",
    "<font color='green'>dropoff latitude and longitude</font> Important <br>\n",
    "<font color='RED'>store_and_fwd_flag </font> all records have the same value  <br>\n",
    "<font color='blue'>trip_duration </font> It's important however this information is not available for before the trip <br>\n",
    "<font color='green'>dist_meters </font>   Important  <br>\n",
    "\n",
    "\n",
    "# Indirect ones    \n",
    "\n",
    "\n",
    "<font color='green'>day_of_week  </font>  Important <br>\n",
    "<font color='green'>pickup hour   </font>  Important  <br>\n",
    "<font color='blue'>middle distance to downTown  </font> Cold be important  <br>\n",
    "<font color='green'>holidays </font>  if it is holidays <br>\n",
    "<font color='blue'>avg_speed </font> It's important however this information is not available for before the trip <br>"
   ]
  },
  {
   "cell_type": "markdown",
   "metadata": {},
   "source": [
    "## trip_duration  and  avg_speed are important features however this information is not avalible for before the taxi ride. \n",
    "## Since I don't know if the prediction could be done after the trip. In a situation where I know the trip time but I don't know wating time. I have constructed two model one uses the avg_speed and other not.\n",
    "\n",
    "\n"
   ]
  },
  {
   "cell_type": "code",
   "execution_count": 228,
   "metadata": {},
   "outputs": [
    {
     "name": "stdout",
     "output_type": "stream",
     "text": [
      "(18461, 16)\n",
      "(7913, 16)\n",
      "(18461,)\n",
      "(7913,)\n"
     ]
    },
    {
     "name": "stderr",
     "output_type": "stream",
     "text": [
      "/usr/local/lib/python3.6/dist-packages/ipykernel_launcher.py:29: FutureWarning: Method .as_matrix will be removed in a future version. Use .values instead.\n"
     ]
    }
   ],
   "source": [
    "\n",
    "from sklearn.model_selection import train_test_split\n",
    "\n",
    "true_y = np.log1p(df['wait_sec'] )\n",
    "#true_y =  df['wait_sec'] \n",
    "\n",
    "\n",
    "\n",
    "def getTrainingSet(usetripduration):\n",
    "    X = df.drop(['id'], axis = 1)\n",
    "    X = X.drop(['vendor_id'], axis = 1)\n",
    "    X = X.drop(['pickup_datetime'], axis = 1)\n",
    "    X = X.drop(['dropoff_datetime'], axis = 1)\n",
    "    X = X.drop(['dist_meters_i'], axis = 1)\n",
    "    X = X.drop(['avg_speed_i'], axis = 1)\n",
    "    X = X.drop(['midle_distance_i'], axis = 1)\n",
    "    X = X.drop(['hour_i'], axis = 1)\n",
    "    \n",
    "    \n",
    "    X = X.drop(['wait_sec'], axis = 1)\n",
    "    X = X.drop(['store_and_fwd_flag'], axis = 1)\n",
    "    if (usetripduration == 0):\n",
    "        X = X.drop(['trip_duration'], axis = 1)\n",
    "        X = X.drop(['avg_speed'], axis = 1)\n",
    "        \n",
    "    #display(X.head(2))\n",
    "    \n",
    "   \n",
    "    Xmatrix = X.as_matrix()\n",
    "    \n",
    "    return Xmatrix\n",
    "\n",
    "Xmatrix = getTrainingSet(1)\n",
    "#print(Xmatrix)\n",
    "x_train, x_test, y_train, y_test = train_test_split(Xmatrix, true_y, test_size = 0.3, shuffle=True, random_state = 17)\n",
    "\n",
    "\n",
    "print(x_train.shape)\n",
    "print(x_test.shape)\n",
    "print(y_train.shape)\n",
    "print(y_test.shape)\n"
   ]
  },
  {
   "cell_type": "markdown",
   "metadata": {},
   "source": [
    "## Regretion  candidates \n",
    "    1. Linerar regretion Algorithms  -> These Algorithms not appear to be appropriate, there are many coreation in the problem that is not linear\n",
    "    2. Neuron network - Could be a solution, however, since the problem has few input feature, probaly the shalow learnig  is more suitable.\n",
    "    3 Decision Tree - could be too simple for the problem.\n",
    "    4  Ensemble methods appears to be more aproprieted,  Randow florest and GradientBoosting are good  options.   \n",
    "    \n",
    "  "
   ]
  },
  {
   "cell_type": "markdown",
   "metadata": {},
   "source": [
    "#  GradientBoostingRegressor Model  "
   ]
  },
  {
   "cell_type": "code",
   "execution_count": 229,
   "metadata": {},
   "outputs": [
    {
     "name": "stderr",
     "output_type": "stream",
     "text": [
      "/usr/local/lib/python3.6/dist-packages/ipykernel_launcher.py:29: FutureWarning: Method .as_matrix will be removed in a future version. Use .values instead.\n"
     ]
    },
    {
     "name": "stdout",
     "output_type": "stream",
     "text": [
      "0.7268033372114038\n",
      "{'learning_rate': 0.04, 'max_depth': 5, 'n_estimators': 200, 'subsample': 0.7}\n",
      "MSE: 0.3387\n"
     ]
    }
   ],
   "source": [
    "\n",
    "from sklearn import ensemble\n",
    "from sklearn import datasets\n",
    "from sklearn.utils import shuffle\n",
    "from sklearn.metrics import mean_squared_error\n",
    "from sklearn.ensemble import GradientBoostingRegressor\n",
    "\n",
    "def boostingRegretionGridResolve(X_train, y_train, X_test, y_test ):\n",
    "    from sklearn.model_selection import GridSearchCV\n",
    "       \n",
    "    parameters = {\n",
    "        \"learning_rate\": [0.04, 0.05, 0.07 ],\n",
    "        \"max_depth\":[5,8, 12],\n",
    "        \"subsample\":[0.4, 0.5, 0.7],\n",
    "        \"n_estimators\":[200]\n",
    "    }\n",
    "    \n",
    "    clf = GridSearchCV(GradientBoostingRegressor(), parameters, cv=4, n_jobs=-1)\n",
    "    clf.fit(X_train, y_train)\n",
    "    print(clf.score(X_train, y_train))\n",
    "    print(clf.best_params_)\n",
    "    y_pre = clf.predict(X_train)\n",
    "    y_pret_test = clf.predict(X_test)\n",
    "    mse = mean_squared_error(y_test, y_pret_test)\n",
    "    print(\"MSE: %.4f\" % mse)\n",
    "    return clf\n",
    "        \n",
    "\n",
    "\n",
    "Xmatrix = getTrainingSet(1) #withSpeed\n",
    "x_train, x_test, y_train, y_test = train_test_split(Xmatrix, true_y, test_size = 0.3, shuffle=True, random_state = 17)\n",
    "regretionwithSpeed = boostingRegretionGridResolve(x_train, y_train, x_test, y_test)\n"
   ]
  },
  {
   "cell_type": "code",
   "execution_count": 231,
   "metadata": {},
   "outputs": [
    {
     "name": "stderr",
     "output_type": "stream",
     "text": [
      "/usr/local/lib/python3.6/dist-packages/ipykernel_launcher.py:29: FutureWarning: Method .as_matrix will be removed in a future version. Use .values instead.\n"
     ]
    },
    {
     "name": "stdout",
     "output_type": "stream",
     "text": [
      "0.638342547105549\n",
      "{'learning_rate': 0.04, 'max_depth': 8, 'n_estimators': 200, 'subsample': 0.7}\n",
      "MSE: 0.6700\n"
     ]
    }
   ],
   "source": [
    "\n",
    "\n",
    "# training without avg_speed\n",
    "Xmatrix = getTrainingSet(0) # without avg_speed\n",
    "x_train, x_test, y_train, y_test = train_test_split(Xmatrix, true_y, test_size = 0.3, shuffle=True, random_state = 17)\n",
    "regretion = boostingRegretionGridResolve(x_train, y_train, x_test, y_test)\n"
   ]
  },
  {
   "cell_type": "markdown",
   "metadata": {},
   "source": []
  },
  {
   "cell_type": "markdown",
   "metadata": {},
   "source": [
    "#  RandomForestRegressor Model  "
   ]
  },
  {
   "cell_type": "code",
   "execution_count": 232,
   "metadata": {
    "scrolled": false
   },
   "outputs": [
    {
     "name": "stderr",
     "output_type": "stream",
     "text": [
      "/usr/local/lib/python3.6/dist-packages/ipykernel_launcher.py:29: FutureWarning: Method .as_matrix will be removed in a future version. Use .values instead.\n",
      "[Parallel(n_jobs=-1)]: Using backend LokyBackend with 8 concurrent workers.\n"
     ]
    },
    {
     "name": "stdout",
     "output_type": "stream",
     "text": [
      "Fitting 5 folds for each of 162 candidates, totalling 810 fits\n"
     ]
    },
    {
     "name": "stderr",
     "output_type": "stream",
     "text": [
      "[Parallel(n_jobs=-1)]: Done  34 tasks      | elapsed:    5.6s\n",
      "[Parallel(n_jobs=-1)]: Done 184 tasks      | elapsed:   33.5s\n",
      "[Parallel(n_jobs=-1)]: Done 434 tasks      | elapsed:  1.7min\n",
      "[Parallel(n_jobs=-1)]: Done 784 tasks      | elapsed:  3.6min\n",
      "[Parallel(n_jobs=-1)]: Done 810 out of 810 | elapsed:  3.6min finished\n"
     ]
    },
    {
     "name": "stdout",
     "output_type": "stream",
     "text": [
      "0.5869235099748144\n",
      "{'max_depth': 20, 'min_samples_leaf': 1, 'min_samples_split': 0.1, 'n_estimators': 100}\n",
      "MSE: 0.4090\n"
     ]
    }
   ],
   "source": [
    "\n",
    "from sklearn import ensemble\n",
    "from sklearn import datasets\n",
    "from sklearn.utils import shuffle\n",
    "from sklearn.metrics import mean_squared_error\n",
    "from sklearn.ensemble import RandomForestRegressor\n",
    "\n",
    "def randonForestResolve(X_train, y_train, X_test, y_test ):\n",
    "    from sklearn.model_selection import GridSearchCV\n",
    "    \n",
    "    \n",
    "    # Set the parameters by cross-validation\n",
    "    parameters = {'n_estimators': [50, 100, 200], \n",
    "                  'max_depth': [ 1, 2, 3, 8, 10, 20],\n",
    "                  'min_samples_split': [0.1, 0.4, 0.7],\n",
    "                  'min_samples_leaf': [1, 2, 4]\n",
    "                 }\n",
    "\n",
    "    # clf = ensemble.RandomForestRegressor(n_estimators=500, n_jobs=1, verbose=1)\n",
    "    clf = GridSearchCV(ensemble.RandomForestRegressor(), parameters, cv=5,  n_jobs=-1, verbose=1)\n",
    "    \n",
    "    \n",
    "    clf.fit(X_train, y_train)\n",
    "    print(clf.score(X_train, y_train))\n",
    "    print(clf.best_params_)\n",
    "    \n",
    "    y_pre = clf.predict(X_train)\n",
    "    y_pret_test = clf.predict(X_test)\n",
    "    mse = mean_squared_error(y_test, y_pret_test)\n",
    "    print(\"MSE: %.4f\" % mse)\n",
    "    \n",
    "    return clf\n",
    "\n",
    "\n",
    "Xmatrix = getTrainingSet(1)\n",
    "x_train, x_test, y_train, y_test = train_test_split(Xmatrix, true_y, test_size = 0.3, shuffle=True, random_state = 17)\n",
    "RandonRegretionWithSpeed = randonForestResolve(x_train, y_train, x_test, y_test)\n"
   ]
  },
  {
   "cell_type": "code",
   "execution_count": 233,
   "metadata": {},
   "outputs": [
    {
     "name": "stderr",
     "output_type": "stream",
     "text": [
      "/usr/local/lib/python3.6/dist-packages/ipykernel_launcher.py:29: FutureWarning: Method .as_matrix will be removed in a future version. Use .values instead.\n",
      "[Parallel(n_jobs=-1)]: Using backend LokyBackend with 8 concurrent workers.\n"
     ]
    },
    {
     "name": "stdout",
     "output_type": "stream",
     "text": [
      "Fitting 5 folds for each of 162 candidates, totalling 810 fits\n"
     ]
    },
    {
     "name": "stderr",
     "output_type": "stream",
     "text": [
      "[Parallel(n_jobs=-1)]: Done  34 tasks      | elapsed:    4.5s\n",
      "[Parallel(n_jobs=-1)]: Done 184 tasks      | elapsed:   29.9s\n",
      "[Parallel(n_jobs=-1)]: Done 434 tasks      | elapsed:  1.5min\n",
      "[Parallel(n_jobs=-1)]: Done 784 tasks      | elapsed:  3.2min\n",
      "[Parallel(n_jobs=-1)]: Done 810 out of 810 | elapsed:  3.2min finished\n"
     ]
    },
    {
     "name": "stdout",
     "output_type": "stream",
     "text": [
      "0.2514204322729269\n",
      "{'max_depth': 10, 'min_samples_leaf': 1, 'min_samples_split': 0.1, 'n_estimators': 100}\n",
      "MSE: 0.7434\n"
     ]
    }
   ],
   "source": [
    "Xmatrix = getTrainingSet(0)\n",
    "x_train, x_test, y_train, y_test = train_test_split(Xmatrix, true_y, test_size = 0.3, shuffle=True, random_state = 17)\n",
    "RandonRegretion = randonForestResolve(x_train, y_train, x_test, y_test)\n",
    "\n"
   ]
  },
  {
   "cell_type": "code",
   "execution_count": 253,
   "metadata": {},
   "outputs": [
    {
     "name": "stdout",
     "output_type": "stream",
     "text": [
      "MSE : 0.6700 GradientBoosting test\n",
      "MSE : 0.3546 GradientBoosting training\n",
      "MSE : 0.7434 RandomForestRegressor test\n",
      "MSE : 0.7340 RandomForestRegressor training\n"
     ]
    }
   ],
   "source": [
    "\n",
    "def cacError(regretion, x, y, msg):\n",
    "    y_pret_test = regretion.predict(x)\n",
    "    mse = mean_squared_error(y, y_pret_test)\n",
    "    print(\"MSE : %.4f\" % mse, msg)\n",
    "    \n",
    "    \n",
    "cacError(regretion, x_test, y_test, 'GradientBoosting test')   \n",
    "cacError(regretion, x_train, y_train, 'GradientBoosting training')   \n",
    "\n",
    "\n",
    "cacError(RandonRegretion, x_test, y_test, 'RandomForestRegressor test')   \n",
    "cacError(RandonRegretion, x_train, y_train, 'RandomForestRegressor training')   \n",
    "\n"
   ]
  },
  {
   "cell_type": "markdown",
   "metadata": {},
   "source": [
    "# Results\n",
    "##  The folowing table compares  the erros rates  of the The GradientBoostingRegressor and RandomForestRegressor Algorithms using and not using  trip_duration and average speed (test error)\n",
    "<br>\n",
    "<table style=\"width:70%\">\n",
    "    \n",
    "  <tr>\n",
    "      <td> </td>\n",
    "      <td><strong><font size=\"3\" color=\"blue\">GradientBoostingRegressor</font> </strong></td>\n",
    "      <td><strong><font size=\"3\" color=\"blue\">RandomForestRegressor</font>  </strong></td>\n",
    "  </tr>\n",
    "  <tr>\n",
    "      <td><strong>with trip_duration</strong>  </td>\n",
    "      <td><strong>0.34</strong></td>\n",
    "      <td><strong>0.40</strong> </td>\n",
    "  </tr>\n",
    "  <tr>\n",
    "      <td><strong>without trip_duration</strong>  </td>\n",
    "      <td><strong><font size=\"2\" color=\"red\">0.64</font>  </strong></td>\n",
    "      <td><strong>0.74 </strong></td>\n",
    "  </tr>\n",
    "</table>\n"
   ]
  },
  {
   "cell_type": "markdown",
   "metadata": {},
   "source": [
    "The models that use the trip_duration and average speed achieve better results. However, models that do not use the trip_duration and average speed could be  more useful, since these informations are not available for before the trip <br> \n",
    "\n",
    "The results show that GradientBoostingRegressor performed better than RandomForestRegressor, however \n",
    "the high difference between test and training errors using GradientBoostingRegressor indicates a high overfit.\n",
    "\n",
    "To continue analysis let's go deeper into the <strong>RandomForestRegressor without trip_duration results</strong>. \n",
    "\n"
   ]
  },
  {
   "cell_type": "code",
   "execution_count": 202,
   "metadata": {},
   "outputs": [
    {
     "name": "stderr",
     "output_type": "stream",
     "text": [
      "/usr/local/lib/python3.6/dist-packages/ipykernel_launcher.py:29: FutureWarning: Method .as_matrix will be removed in a future version. Use .values instead.\n"
     ]
    },
    {
     "name": "stdout",
     "output_type": "stream",
     "text": [
      "MSE: 0.5756\n"
     ]
    }
   ],
   "source": []
  },
  {
   "cell_type": "code",
   "execution_count": 54,
   "metadata": {},
   "outputs": [
    {
     "name": "stdout",
     "output_type": "stream",
     "text": [
      "Accuracy: 0.31 (+/- 0.04)\n"
     ]
    }
   ],
   "source": [
    "# let's seen the crossValidation\n",
    "\n",
    "def crossValidation(regretionmodel):\n",
    "    from sklearn.model_selection import cross_val_score\n",
    "    scores = cross_val_score(regretionmodel, Xmatrix, true_y, cv=5)\n",
    "    print(\"Accuracy: %0.2f (+/- %0.2f)\" % (scores.mean(), scores.std() * 2))\n",
    "\n",
    "crossValidation(RandonRegretion)\n"
   ]
  },
  {
   "cell_type": "code",
   "execution_count": null,
   "metadata": {},
   "outputs": [],
   "source": []
  },
  {
   "cell_type": "code",
   "execution_count": 236,
   "metadata": {},
   "outputs": [
    {
     "data": {
      "image/png": "[encoded data removed]",
      "text/plain": [
       "<Figure size 432x288 with 1 Axes>"
      ]
     },
     "metadata": {
      "needs_background": "light"
     },
     "output_type": "display_data"
    },
    {
     "name": "stdout",
     "output_type": "stream",
     "text": [
      "Predicted wating time mean for teste Dataset 5.3371\n",
      "True wating time mean for teste Dataset  5.3499\n"
     ]
    }
   ],
   "source": [
    "# resudual distribution \n",
    "\n",
    "y_pre = RandonRegretion.predict(x_test)\n",
    "#rest = ((y_pre - y_train)  * (y_pre - y_train) ** 0.5)\n",
    "rest = (y_pre - y_test)  \n",
    "rest.describe() \n",
    "plt.title('Residual distribution of log(wating time (s)) ')\n",
    "plt.hist(rest, bins=200)  \n",
    "plt.show()\n",
    "\n",
    "print(\"Predicted wating time mean for teste Dataset %.4f\" %  y_pre.mean() )\n",
    "print(\"True wating time mean for teste Dataset  %.4f\" % y_test.mean() )\n",
    "                     \n",
    "                      "
   ]
  },
  {
   "cell_type": "code",
   "execution_count": 250,
   "metadata": {},
   "outputs": [],
   "source": [
    "#regretionfinal = regretion  # GradientBoostingRegressor\n",
    "regretionfinal = RandonRegretion  # RandomForestRegressor\n"
   ]
  },
  {
   "cell_type": "code",
   "execution_count": 251,
   "metadata": {},
   "outputs": [
    {
     "data": {
      "image/png": "[encoded data removed]",
      "text/plain": [
       "<Figure size 432x288 with 1 Axes>"
      ]
     },
     "metadata": {
      "needs_background": "light"
     },
     "output_type": "display_data"
    },
    {
     "name": "stdout",
     "output_type": "stream",
     "text": [
      "count    7913.000000\n",
      "mean      -95.791493\n",
      "std       294.397487\n",
      "min     -2779.954591\n",
      "25%      -168.682559\n",
      "50%       -11.617785\n",
      "75%        70.359789\n",
      "max       393.373445\n",
      "Name: wait_sec, dtype: float64\n"
     ]
    },
    {
     "data": {
      "image/png": "[encoded data removed]",
      "text/plain": [
       "<Figure size 432x288 with 1 Axes>"
      ]
     },
     "metadata": {
      "needs_background": "light"
     },
     "output_type": "display_data"
    },
    {
     "name": "stdout",
     "output_type": "stream",
     "text": [
      "count    18461.000000\n",
      "mean       -89.637639\n",
      "std        292.073618\n",
      "min      -2825.617785\n",
      "25%       -161.489599\n",
      "50%         -7.479156\n",
      "75%         72.854119\n",
      "max        405.401080\n",
      "Name: wait_sec, dtype: float64\n"
     ]
    }
   ],
   "source": [
    "def calcRealErro(x, y, regretion):\n",
    "    y_pre = np.expm1(regretion.predict(x))\n",
    "    y_true= np.expm1(y)\n",
    "    rest = (y_pre - y_true)  \n",
    "\n",
    "    plt.title('Residual distribution of wating time (s) ')\n",
    "    plt.hist(rest, bins=400)  \n",
    "    plt.xlim(-1000, 1000)  \n",
    "    plt.show()\n",
    "    print(rest.describe() )\n",
    "    \n",
    "calcRealErro(x_test, y_test, regretionfinal)\n",
    "calcRealErro(x_train, y_train, regretionfinal)\n"
   ]
  },
  {
   "cell_type": "code",
   "execution_count": 254,
   "metadata": {},
   "outputs": [
    {
     "name": "stdout",
     "output_type": "stream",
     "text": [
      "Test  RMSE error:  309.6  (s)\n",
      "training    RMSE error:  305.5  (s)\n"
     ]
    }
   ],
   "source": [
    "\n",
    "\n",
    "\n",
    "\n",
    "def calcRMSE(x, y, regretion, label):\n",
    "    y_pre = np.expm1(regretion.predict(x))\n",
    "    y_true= np.expm1(y)\n",
    "    print(label,  ' RMSE error:  %.1f ' % np.sqrt(mean_squared_error(y_pre, y_true)), '(s)')\n",
    "\n",
    " \n",
    "calcRMSE(x_test, y_test,regretionfinal, 'Test' )\n",
    "calcRMSE(x_train, y_train,regretionfinal, 'training  ' )\n",
    "\n",
    "\n",
    "\n",
    "\n",
    "\n"
   ]
  },
  {
   "cell_type": "code",
   "execution_count": null,
   "metadata": {},
   "outputs": [],
   "source": []
  },
  {
   "cell_type": "code",
   "execution_count": null,
   "metadata": {},
   "outputs": [],
   "source": []
  }
 ],
 "metadata": {
  "kernelspec": {
   "display_name": "Python 3",
   "language": "python",
   "name": "python3"
  },
  "language_info": {
   "codemirror_mode": {
    "name": "ipython",
    "version": 3
   },
   "file_extension": ".py",
   "mimetype": "text/x-python",
   "name": "python",
   "nbconvert_exporter": "python",
   "pygments_lexer": "ipython3",
   "version": "3.6.8"
  }
 },
 "nbformat": 4,
 "nbformat_minor": 2
}
